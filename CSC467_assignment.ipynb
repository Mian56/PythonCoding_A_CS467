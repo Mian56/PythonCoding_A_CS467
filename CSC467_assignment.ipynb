{
  "metadata": {
    "kernelspec": {
      "name": "python",
      "display_name": "Python (Pyodide)",
      "language": "python"
    },
    "language_info": {
      "codemirror_mode": {
        "name": "python",
        "version": 3
      },
      "file_extension": ".py",
      "mimetype": "text/x-python",
      "name": "python",
      "nbconvert_exporter": "python",
      "pygments_lexer": "ipython3",
      "version": "3.8"
    },
    "colab": {
      "provenance": []
    }
  },
  "nbformat_minor": 0,
  "nbformat": 4,
  "cells": [
    {
      "cell_type": "markdown",
      "source": [
        "# CSC467- Module 02 Assignment"
      ],
      "metadata": {
        "id": "sFSWMFsv_KpP"
      }
    },
    {
      "cell_type": "markdown",
      "source": [
        "## Instructions\n",
        "\n",
        "Please answer the questions below using Python in the attached Jupyter notebook and follow the guidelines below:\n",
        "\n",
        "- This assignment must be completed **individually**.\n",
        "\n",
        "- All the solutions must be written in this Jupyter notebook, uploaded to Github and tested using Colab.\n",
        "\n",
        "- You may use basic algebra packages (e.g. `NumPy`, `SciPy`, etc) but you are not allowed to use the packages that directly solve the problems.\n",
        "\n",
        "- It is highly recommended that you begin working on this assignment early.\n"
      ],
      "metadata": {
        "id": "Tn0Tu7KN_KpQ"
      }
    },
    {
      "cell_type": "markdown",
      "source": [],
      "metadata": {
        "id": "GC-Pp379_KpR"
      }
    },
    {
      "cell_type": "markdown",
      "source": [
        "## Getting Started with NumPy\n",
        "\n",
        "`NumPy` is the fundamental package for scientific computing with Python. It provides a powerful N-dimensional array object and functions for working with these arrays. Some basic use of this packages is shown below. This is **NOT** a problem, but you are highly recommended to run the following code with some of the input changed in order to understand the meaning of the operations."
      ],
      "metadata": {
        "id": "mg7040In_KpR"
      }
    },
    {
      "cell_type": "markdown",
      "source": [
        "### Arrays"
      ],
      "metadata": {
        "id": "SlpKKjU2_KpR"
      }
    },
    {
      "cell_type": "code",
      "source": [
        "import numpy as np             # Import the NumPy package\n",
        "\n",
        "v = np.array([1, 2, 3])        # A 1D array\n",
        "print(v)\n",
        "print(v.shape)                 # Print the size / shape of v\n",
        "print(\"1D array:\", v, \"Shape:\", v.shape)\n",
        "\n",
        "v = np.array([[1], [2], [3]])  # A 2D array\n",
        "print(\"2D array:\", v, \"Shape:\", v.shape) # Print the size of v and check the difference.\n",
        "\n",
        "# You can also attempt to compute and print the following values and their size.\n",
        "\n",
        "v = v.T                        # Transpose of a 2D array\n",
        "m = np.zeros([3, 4])           # A 2x3 array (i.e. matrix) of zeros\n",
        "v = np.ones([1, 3])            # A 1x3 array (i.e. a row vector) of ones\n",
        "v = np.ones([3, 1])            # A 3x1 array (i.e. a column vector) of ones\n",
        "m = np.eye(4)                  # Identity matrix\n",
        "m = np.random.rand(2, 3)       # A 2x3 random matrix with values in [0, 1] (sampled from uniform distribution)"
      ],
      "metadata": {
        "trusted": true,
        "id": "n-MqdJ8Y_KpR",
        "outputId": "babcb9f2-a6f3-483f-e75e-3299e78d6f2d",
        "colab": {
          "base_uri": "https://localhost:8080/"
        }
      },
      "outputs": [
        {
          "output_type": "stream",
          "name": "stdout",
          "text": [
            "[1 2 3]\n",
            "(3,)\n",
            "1D array: [1 2 3] Shape: (3,)\n",
            "2D array: [[1]\n",
            " [2]\n",
            " [3]] Shape: (3, 1)\n"
          ]
        }
      ],
      "execution_count": 1
    },
    {
      "cell_type": "markdown",
      "source": [
        "### Array Indexing"
      ],
      "metadata": {
        "id": "MjAjr7hP_KpS"
      }
    },
    {
      "cell_type": "code",
      "source": [
        "import numpy as np\n",
        "\n",
        "print(\"Matrix\")\n",
        "m = np.array([[1, 2, 3], [4, 5, 6], [7, 8, 9]]) # Create a 3x3 array.\n",
        "print(m)\n",
        "\n",
        "print(\"\\nAccess a single element\")\n",
        "print(m[0, 1])                        # Access an element\n",
        "m[1, 1] = 100                         # Modify an element\n",
        "print(\"\\nModify a single element\")\n",
        "print(m)\n",
        "\n",
        "print(\"\\nAccess a subarray\")\n",
        "m = np.array([[1, 2, 3], [4, 5, 6], [7, 8, 9]]) # Create a 3x3 array.\n",
        "print(m[1, :])                        # Access a row (to 1D array)\n",
        "print(m[1:2, :])                      # Access a row (to 2D array)\n",
        "print(m[1:3, :])                      # Access a sub-matrix\n",
        "print(m[1:, :])                       # Access a sub-matrix\n",
        "\n",
        "print(\"\\nModify a subarray\")\n",
        "m = np.array([[1,2,3], [4,5,6], [7,8,9]]) # Create a 3x3 array.\n",
        "v1 = np.array([1,1,1])\n",
        "m[0] = v1\n",
        "print(m)\n",
        "m = np.array([[1,2,3], [4,5,6], [7,8,9]]) # Create a 3x3 array.\n",
        "v1 = np.array([1,1,1])\n",
        "m[:,0] = v1\n",
        "print(m)\n",
        "m = np.array([[1,2,3], [4,5,6], [7,8,9]]) # Create a 3x3 array.\n",
        "m1 = np.array([[1,1],[1,1]])\n",
        "m[:2,:2] = m1\n",
        "print(m)\n",
        "\n",
        "print(\"\\nTranspose a subarray\")\n",
        "m = np.array([[1, 2, 3], [4, 5, 6], [7, 8, 9]]) # Create a 3x3 array.\n",
        "print(m[1, :].T)                                # Notice the difference of the dimension of resulting array\n",
        "print(m[1:2, :].T)\n",
        "print(m[1:, :].T)\n",
        "print(np.transpose(m[1:, :], axes=(1,0)))       # np.transpose() can be used to transpose according given axes list.\n",
        "\n",
        "print(\"\\nReverse the order of a subarray\")\n",
        "print(m[1, ::-1])                               # Access a row with reversed order (to 1D array)\n",
        "\n",
        "# Boolean array indexing\n",
        "# Given a array m, create a new array with values equal to m\n",
        "# if they are greater than 2, and equal to 0 if they less than or equal to 2\n",
        "m = np.array([[1, 2, 3], [4, 5, 6]])\n",
        "m[m <= 2] = 0\n",
        "print(\"\\nBoolean array indexing: Modify with a scalar\")\n",
        "print(m)\n",
        "\n",
        "# Given a array m, create a new array with values equal to those in m\n",
        "# if they are greater than 0, and equal to those in n if they less than or equal 0\n",
        "m = np.array([[1, -2, 3], [4, -5, 6]])\n",
        "n = np.array([[1, 10, 100], [1, 10, 100]])\n",
        "n[m > 0] = m[m > 0]\n",
        "print(\"\\nBoolean array indexing: Modify with another array\")\n",
        "print(n)"
      ],
      "metadata": {
        "trusted": true,
        "id": "cIGNTx75_KpS",
        "outputId": "f6c35c27-5c56-4981-e808-90d455e5289d",
        "colab": {
          "base_uri": "https://localhost:8080/"
        }
      },
      "outputs": [
        {
          "output_type": "stream",
          "name": "stdout",
          "text": [
            "Matrix\n",
            "[[1 2 3]\n",
            " [4 5 6]\n",
            " [7 8 9]]\n",
            "\n",
            "Access a single element\n",
            "2\n",
            "\n",
            "Modify a single element\n",
            "[[  1   2   3]\n",
            " [  4 100   6]\n",
            " [  7   8   9]]\n",
            "\n",
            "Access a subarray\n",
            "[4 5 6]\n",
            "[[4 5 6]]\n",
            "[[4 5 6]\n",
            " [7 8 9]]\n",
            "[[4 5 6]\n",
            " [7 8 9]]\n",
            "\n",
            "Modify a subarray\n",
            "[[1 1 1]\n",
            " [4 5 6]\n",
            " [7 8 9]]\n",
            "[[1 2 3]\n",
            " [1 5 6]\n",
            " [1 8 9]]\n",
            "[[1 1 3]\n",
            " [1 1 6]\n",
            " [7 8 9]]\n",
            "\n",
            "Transpose a subarray\n",
            "[4 5 6]\n",
            "[[4]\n",
            " [5]\n",
            " [6]]\n",
            "[[4 7]\n",
            " [5 8]\n",
            " [6 9]]\n",
            "[[4 7]\n",
            " [5 8]\n",
            " [6 9]]\n",
            "\n",
            "Reverse the order of a subarray\n",
            "[6 5 4]\n",
            "\n",
            "Boolean array indexing: Modify with a scalar\n",
            "[[0 0 3]\n",
            " [4 5 6]]\n",
            "\n",
            "Boolean array indexing: Modify with another array\n",
            "[[ 1 10  3]\n",
            " [ 4 10  6]]\n"
          ]
        }
      ],
      "execution_count": 2
    },
    {
      "cell_type": "markdown",
      "source": [
        "### Array Dimension Operation"
      ],
      "metadata": {
        "id": "mAzayfWG_KpT"
      }
    },
    {
      "cell_type": "code",
      "source": [
        "import numpy as np\n",
        "\n",
        "print(\"Matrix\")\n",
        "m = np.array([[1, 2], [3, 4]]) # Create a 2x2 array.\n",
        "print(m, m.shape)\n",
        "\n",
        "print(\"\\nReshape\")\n",
        "re_m = m.reshape(1,2,2)  # Add one more dimension at first.\n",
        "print(re_m, re_m.shape)\n",
        "re_m = m.reshape(2,1,2)  # Add one more dimension in middle.\n",
        "print(re_m, re_m.shape)\n",
        "re_m = m.reshape(2,2,1)  # Add one more dimension at last.\n",
        "print(re_m, re_m.shape)\n",
        "\n",
        "print(\"\\nStack\")\n",
        "m1 = np.array([[1, 2], [3, 4]]) # Create a 2x2 array.\n",
        "m2 = np.array([[1, 1], [1, 1]]) # Create a 2x2 array.\n",
        "print(np.stack((m1,m2)))\n",
        "\n",
        "print(\"\\nConcatenate\")\n",
        "m1 = np.array([[1, 2], [3, 4]]) # Create a 2x2 array.\n",
        "m2 = np.array([[1, 1], [1, 1]]) # Create a 2x2 array.\n",
        "print(np.concatenate((m1,m2)))\n",
        "print(np.concatenate((m1,m2), axis=0))\n",
        "print(np.concatenate((m1,m2), axis=1))"
      ],
      "metadata": {
        "trusted": true,
        "id": "7_wbOGlA_KpT",
        "outputId": "7eed9804-07d5-48fc-c0cd-4292385347b7",
        "colab": {
          "base_uri": "https://localhost:8080/"
        }
      },
      "outputs": [
        {
          "output_type": "stream",
          "name": "stdout",
          "text": [
            "Matrix\n",
            "[[1 2]\n",
            " [3 4]] (2, 2)\n",
            "\n",
            "Reshape\n",
            "[[[1 2]\n",
            "  [3 4]]] (1, 2, 2)\n",
            "[[[1 2]]\n",
            "\n",
            " [[3 4]]] (2, 1, 2)\n",
            "[[[1]\n",
            "  [2]]\n",
            "\n",
            " [[3]\n",
            "  [4]]] (2, 2, 1)\n",
            "\n",
            "Stack\n",
            "[[[1 2]\n",
            "  [3 4]]\n",
            "\n",
            " [[1 1]\n",
            "  [1 1]]]\n",
            "\n",
            "Concatenate\n",
            "[[1 2]\n",
            " [3 4]\n",
            " [1 1]\n",
            " [1 1]]\n",
            "[[1 2]\n",
            " [3 4]\n",
            " [1 1]\n",
            " [1 1]]\n",
            "[[1 2 1 1]\n",
            " [3 4 1 1]]\n"
          ]
        }
      ],
      "execution_count": 3
    },
    {
      "cell_type": "markdown",
      "source": [
        "### Math Operations on Array\n",
        "**Element-wise Operations**"
      ],
      "metadata": {
        "jp-MarkdownHeadingCollapsed": true,
        "id": "x1ULd22q_KpT"
      }
    },
    {
      "cell_type": "code",
      "source": [
        "import numpy as np\n",
        "\n",
        "a = np.array([[1, 2, 3], [4, 5, 6]], dtype=np.float64)\n",
        "print(a * 3)                                            # Scalar multiplication\n",
        "print(a / 2)                                            # Scalar division\n",
        "print(np.round(a / 2))\n",
        "print(np.power(a, 2))\n",
        "print(np.log(a))\n",
        "print(np.exp(a))\n",
        "\n",
        "b = np.array([[1, 1, 1], [2, 2, 2]], dtype=np.float64)\n",
        "print(a + b)                                            # Elementwise sum\n",
        "print(a - b)                                            # Elementwise difference\n",
        "print(a * b)                                            # Elementwise product\n",
        "print(a / b)                                            # Elementwise division\n",
        "print(a == b)                                           # Elementwise comparison"
      ],
      "metadata": {
        "trusted": true,
        "id": "Wu2G5tcK_KpT",
        "outputId": "ab3a4c4f-11d6-4b76-d337-0320cc5f5420",
        "colab": {
          "base_uri": "https://localhost:8080/"
        }
      },
      "outputs": [
        {
          "output_type": "stream",
          "name": "stdout",
          "text": [
            "[[ 3.  6.  9.]\n",
            " [12. 15. 18.]]\n",
            "[[0.5 1.  1.5]\n",
            " [2.  2.5 3. ]]\n",
            "[[0. 1. 2.]\n",
            " [2. 2. 3.]]\n",
            "[[ 1.  4.  9.]\n",
            " [16. 25. 36.]]\n",
            "[[0.         0.69314718 1.09861229]\n",
            " [1.38629436 1.60943791 1.79175947]]\n",
            "[[  2.71828183   7.3890561   20.08553692]\n",
            " [ 54.59815003 148.4131591  403.42879349]]\n",
            "[[2. 3. 4.]\n",
            " [6. 7. 8.]]\n",
            "[[0. 1. 2.]\n",
            " [2. 3. 4.]]\n",
            "[[ 1.  2.  3.]\n",
            " [ 8. 10. 12.]]\n",
            "[[1.  2.  3. ]\n",
            " [2.  2.5 3. ]]\n",
            "[[ True False False]\n",
            " [False False False]]\n"
          ]
        }
      ],
      "execution_count": 4
    },
    {
      "cell_type": "markdown",
      "source": [
        "**Broadcasting**"
      ],
      "metadata": {
        "id": "zo7bvIyr_KpT"
      }
    },
    {
      "cell_type": "code",
      "source": [
        "# Note: See https://numpy.org/doc/stable/user/basics.broadcasting.html\n",
        "#       for more details.\n",
        "import numpy as np\n",
        "a = np.array([[1, 1, 1], [2, 2, 2]], dtype=np.float64)\n",
        "b = np.array([1, 2, 3])\n",
        "print(a*b)"
      ],
      "metadata": {
        "trusted": true,
        "id": "IcRgqXxe_KpT",
        "outputId": "faf537af-3790-4b72-f06d-58bf06b891e3",
        "colab": {
          "base_uri": "https://localhost:8080/"
        }
      },
      "outputs": [
        {
          "output_type": "stream",
          "name": "stdout",
          "text": [
            "[[1. 2. 3.]\n",
            " [2. 4. 6.]]\n"
          ]
        }
      ],
      "execution_count": 5
    },
    {
      "cell_type": "markdown",
      "source": [
        "**Sum and Mean**"
      ],
      "metadata": {
        "id": "-hki33RU_KpT"
      }
    },
    {
      "cell_type": "code",
      "source": [
        "import numpy as np\n",
        "\n",
        "a = np.array([[1, 2, 3], [4, 5, 6]])\n",
        "print(\"Sum of array\")\n",
        "print(np.sum(a))                # Sum of all array elements\n",
        "print(np.sum(a, axis=0))        # Sum of each column\n",
        "print(np.sum(a, axis=1))        # Sum of each row\n",
        "print(\"\\nMean of array\")\n",
        "print(np.mean(a))               # Mean of all array elements\n",
        "print(np.mean(a, axis=0))       # Mean of each column\n",
        "print(np.mean(a, axis=1))       # Mean of each row"
      ],
      "metadata": {
        "trusted": true,
        "id": "Q8A8yiob_KpU",
        "outputId": "652a3a50-758f-48d9-c346-aaf9282b7695",
        "colab": {
          "base_uri": "https://localhost:8080/"
        }
      },
      "outputs": [
        {
          "output_type": "stream",
          "name": "stdout",
          "text": [
            "Sum of array\n",
            "21\n",
            "[5 7 9]\n",
            "[ 6 15]\n",
            "\n",
            "Mean of array\n",
            "3.5\n",
            "[2.5 3.5 4.5]\n",
            "[2. 5.]\n"
          ]
        }
      ],
      "execution_count": 6
    },
    {
      "cell_type": "markdown",
      "source": [
        "**Vector and Matrix Operations**"
      ],
      "metadata": {
        "id": "0r9WnZCd_KpU"
      }
    },
    {
      "cell_type": "code",
      "source": [
        "import numpy as np\n",
        "\n",
        "a = np.array([[1, 2], [3, 4]])\n",
        "b = np.array([[1, 2], [4, 1]])\n",
        "print(\"Matrix-matrix product\")\n",
        "print(a.dot(b))                 # Matrix-matrix product\n",
        "print(a.T.dot(b.T))\n",
        "print(np.matmul(a,b))\n",
        "print(np.matmul(a.T, b.T))\n",
        "print(a @ b)\n",
        "print(a.T @ b.T)\n",
        "\n",
        "x = np.array([3, 4])\n",
        "print(\"\\nMatrix-vector product\")\n",
        "print(a.dot(x))                 # Matrix-vector product\n",
        "print(np.matmul(a,x))\n",
        "print(a @ x)\n",
        "\n",
        "x = np.array([1, 2])\n",
        "y = np.array([3, 4])\n",
        "print(\"\\nVector-vector product\")\n",
        "print(x.dot(y))                 # Vector-vector product"
      ],
      "metadata": {
        "trusted": true,
        "id": "bVzEtY7N_KpU",
        "outputId": "4f8ea13b-24de-490b-e5cf-91ba1dc9a3c3",
        "colab": {
          "base_uri": "https://localhost:8080/"
        }
      },
      "outputs": [
        {
          "output_type": "stream",
          "name": "stdout",
          "text": [
            "Matrix-matrix product\n",
            "[[ 9  4]\n",
            " [19 10]]\n",
            "[[ 7  7]\n",
            " [10 12]]\n",
            "[[ 9  4]\n",
            " [19 10]]\n",
            "[[ 7  7]\n",
            " [10 12]]\n",
            "[[ 9  4]\n",
            " [19 10]]\n",
            "[[ 7  7]\n",
            " [10 12]]\n",
            "\n",
            "Matrix-vector product\n",
            "[11 25]\n",
            "[11 25]\n",
            "[11 25]\n",
            "\n",
            "Vector-vector product\n",
            "11\n"
          ]
        }
      ],
      "execution_count": 7
    },
    {
      "cell_type": "markdown",
      "source": [
        "### Matplotlib\n",
        "\n",
        "`Matplotlib` is a plotting library. We will use it to show the result in this assignment."
      ],
      "metadata": {
        "id": "xI_k5NuD_KpU"
      }
    },
    {
      "cell_type": "code",
      "source": [
        "%config InlineBackend.figure_format = 'retina' # For high-resolution.\n",
        "import numpy as np\n",
        "import matplotlib.pyplot as plt\n",
        "\n",
        "x = np.arange(-2., 2., 0.01) * np.pi\n",
        "plt.plot(x, np.cos(x))\n",
        "plt.xlabel('x')\n",
        "plt.ylabel('$cos(x)$ value') # '$...$' for a LaTeX formula.\n",
        "plt.title('Cosine function')\n",
        "\n",
        "plt.show()"
      ],
      "metadata": {
        "trusted": true,
        "id": "5vdWofj5_KpU",
        "outputId": "ce147394-0112-44bd-f29f-d8cbd1fc1312",
        "colab": {
          "base_uri": "https://localhost:8080/",
          "height": 471
        }
      },
      "outputs": [
        {
          "output_type": "display_data",
          "data": {
            "text/plain": [
              "<Figure size 640x480 with 1 Axes>"
            ],
            "image/png": "[encoded data removed]"
          },
          "metadata": {
            "image/png": {
              "width": 588,
              "height": 454
            }
          }
        }
      ],
      "execution_count": 8
    },
    {
      "cell_type": "markdown",
      "source": [
        "This brief overview introduces many basic functions from `NumPy` and `Matplotlib`, but is far from complete. Check out more operations and their use in documentations for [NumPy](https://docs.scipy.org/doc/numpy/reference/) and [Matplotlib](https://matplotlib.org/)."
      ],
      "metadata": {
        "id": "SDga0VRn_KpU"
      }
    },
    {
      "cell_type": "markdown",
      "source": [
        "## Problem 1: Image Operations and Vectorization (5 points)\n",
        "\n",
        "Vector operations using `NumPy` can offer a significant speedup over doing an operation iteratively on an image. The problem below will demonstrate the time it takes for both approaches to change the color of quadrants of an image.\n",
        "\n",
        "The problem reads an image `bear.png` that you will find in the assignment folder. Two functions are then provided as different approaches for doing an operation on the image.\n",
        "\n",
        "Your task is to follow through the code and fill the blanks in `vectorized()` function and compare the speed difference between `iterative()` and `vectorized()`."
      ],
      "metadata": {
        "id": "nOh3x6wQ_KpU"
      }
    },
    {
      "cell_type": "code",
      "source": [
        "import numpy as np\n",
        "import matplotlib.pyplot as plt\n",
        "import copy\n",
        "import time\n",
        "\n",
        "img = plt.imread('bear.png')                # Read an image\n",
        "print(\"Image shape:\", img.shape)            # Print image size and color depth. The shape should be (H,W,C).\n",
        "plt.imshow(img)                             # Show the original image\n",
        "plt.show()"
      ],
      "metadata": {
        "trusted": true,
        "id": "is6S0q-Y_KpU",
        "outputId": "7777b604-6e67-4c7b-965f-b4f506aba896",
        "colab": {
          "base_uri": "https://localhost:8080/",
          "height": 370
        }
      },
      "outputs": [
        {
          "output_type": "error",
          "ename": "FileNotFoundError",
          "evalue": "[Errno 2] No such file or directory: 'bear.png'",
          "traceback": [
            "\u001b[0;31m---------------------------------------------------------------------------\u001b[0m",
            "\u001b[0;31mFileNotFoundError\u001b[0m                         Traceback (most recent call last)",
            "\u001b[0;32m<ipython-input-9-36dd9d02992b>\u001b[0m in \u001b[0;36m<cell line: 0>\u001b[0;34m()\u001b[0m\n\u001b[1;32m      4\u001b[0m \u001b[0;32mimport\u001b[0m \u001b[0mtime\u001b[0m\u001b[0;34m\u001b[0m\u001b[0;34m\u001b[0m\u001b[0m\n\u001b[1;32m      5\u001b[0m \u001b[0;34m\u001b[0m\u001b[0m\n\u001b[0;32m----> 6\u001b[0;31m \u001b[0mimg\u001b[0m \u001b[0;34m=\u001b[0m \u001b[0mplt\u001b[0m\u001b[0;34m.\u001b[0m\u001b[0mimread\u001b[0m\u001b[0;34m(\u001b[0m\u001b[0;34m'bear.png'\u001b[0m\u001b[0;34m)\u001b[0m                \u001b[0;31m# Read an image\u001b[0m\u001b[0;34m\u001b[0m\u001b[0;34m\u001b[0m\u001b[0m\n\u001b[0m\u001b[1;32m      7\u001b[0m \u001b[0mprint\u001b[0m\u001b[0;34m(\u001b[0m\u001b[0;34m\"Image shape:\"\u001b[0m\u001b[0;34m,\u001b[0m \u001b[0mimg\u001b[0m\u001b[0;34m.\u001b[0m\u001b[0mshape\u001b[0m\u001b[0;34m)\u001b[0m            \u001b[0;31m# Print image size and color depth. The shape should be (H,W,C).\u001b[0m\u001b[0;34m\u001b[0m\u001b[0;34m\u001b[0m\u001b[0m\n\u001b[1;32m      8\u001b[0m \u001b[0mplt\u001b[0m\u001b[0;34m.\u001b[0m\u001b[0mimshow\u001b[0m\u001b[0;34m(\u001b[0m\u001b[0mimg\u001b[0m\u001b[0;34m)\u001b[0m                             \u001b[0;31m# Show the original image\u001b[0m\u001b[0;34m\u001b[0m\u001b[0;34m\u001b[0m\u001b[0m\n",
            "\u001b[0;32m/usr/local/lib/python3.11/dist-packages/matplotlib/pyplot.py\u001b[0m in \u001b[0;36mimread\u001b[0;34m(fname, format)\u001b[0m\n\u001b[1;32m   2611\u001b[0m         \u001b[0mfname\u001b[0m\u001b[0;34m:\u001b[0m \u001b[0mstr\u001b[0m \u001b[0;34m|\u001b[0m \u001b[0mpathlib\u001b[0m\u001b[0;34m.\u001b[0m\u001b[0mPath\u001b[0m \u001b[0;34m|\u001b[0m \u001b[0mBinaryIO\u001b[0m\u001b[0;34m,\u001b[0m \u001b[0mformat\u001b[0m\u001b[0;34m:\u001b[0m \u001b[0mstr\u001b[0m \u001b[0;34m|\u001b[0m \u001b[0;32mNone\u001b[0m \u001b[0;34m=\u001b[0m \u001b[0;32mNone\u001b[0m\u001b[0;34m\u001b[0m\u001b[0;34m\u001b[0m\u001b[0m\n\u001b[1;32m   2612\u001b[0m ) -> np.ndarray:\n\u001b[0;32m-> 2613\u001b[0;31m     \u001b[0;32mreturn\u001b[0m \u001b[0mmatplotlib\u001b[0m\u001b[0;34m.\u001b[0m\u001b[0mimage\u001b[0m\u001b[0;34m.\u001b[0m\u001b[0mimread\u001b[0m\u001b[0;34m(\u001b[0m\u001b[0mfname\u001b[0m\u001b[0;34m,\u001b[0m \u001b[0mformat\u001b[0m\u001b[0;34m)\u001b[0m\u001b[0;34m\u001b[0m\u001b[0;34m\u001b[0m\u001b[0m\n\u001b[0m\u001b[1;32m   2614\u001b[0m \u001b[0;34m\u001b[0m\u001b[0m\n\u001b[1;32m   2615\u001b[0m \u001b[0;34m\u001b[0m\u001b[0m\n",
            "\u001b[0;32m/usr/local/lib/python3.11/dist-packages/matplotlib/image.py\u001b[0m in \u001b[0;36mimread\u001b[0;34m(fname, format)\u001b[0m\n\u001b[1;32m   1500\u001b[0m             \u001b[0;34m\"``np.array(PIL.Image.open(urllib.request.urlopen(url)))``.\"\u001b[0m\u001b[0;34m\u001b[0m\u001b[0;34m\u001b[0m\u001b[0m\n\u001b[1;32m   1501\u001b[0m             )\n\u001b[0;32m-> 1502\u001b[0;31m     \u001b[0;32mwith\u001b[0m \u001b[0mimg_open\u001b[0m\u001b[0;34m(\u001b[0m\u001b[0mfname\u001b[0m\u001b[0;34m)\u001b[0m \u001b[0;32mas\u001b[0m \u001b[0mimage\u001b[0m\u001b[0;34m:\u001b[0m\u001b[0;34m\u001b[0m\u001b[0;34m\u001b[0m\u001b[0m\n\u001b[0m\u001b[1;32m   1503\u001b[0m         return (_pil_png_to_float_array(image)\n\u001b[1;32m   1504\u001b[0m                 \u001b[0;32mif\u001b[0m \u001b[0misinstance\u001b[0m\u001b[0;34m(\u001b[0m\u001b[0mimage\u001b[0m\u001b[0;34m,\u001b[0m \u001b[0mPIL\u001b[0m\u001b[0;34m.\u001b[0m\u001b[0mPngImagePlugin\u001b[0m\u001b[0;34m.\u001b[0m\u001b[0mPngImageFile\u001b[0m\u001b[0;34m)\u001b[0m \u001b[0;32melse\u001b[0m\u001b[0;34m\u001b[0m\u001b[0;34m\u001b[0m\u001b[0m\n",
            "\u001b[0;32m/usr/local/lib/python3.11/dist-packages/PIL/ImageFile.py\u001b[0m in \u001b[0;36m__init__\u001b[0;34m(self, fp, filename)\u001b[0m\n\u001b[1;32m    130\u001b[0m         \u001b[0;32mif\u001b[0m \u001b[0mis_path\u001b[0m\u001b[0;34m(\u001b[0m\u001b[0mfp\u001b[0m\u001b[0;34m)\u001b[0m\u001b[0;34m:\u001b[0m\u001b[0;34m\u001b[0m\u001b[0;34m\u001b[0m\u001b[0m\n\u001b[1;32m    131\u001b[0m             \u001b[0;31m# filename\u001b[0m\u001b[0;34m\u001b[0m\u001b[0;34m\u001b[0m\u001b[0m\n\u001b[0;32m--> 132\u001b[0;31m             \u001b[0mself\u001b[0m\u001b[0;34m.\u001b[0m\u001b[0mfp\u001b[0m \u001b[0;34m=\u001b[0m \u001b[0mopen\u001b[0m\u001b[0;34m(\u001b[0m\u001b[0mfp\u001b[0m\u001b[0;34m,\u001b[0m \u001b[0;34m\"rb\"\u001b[0m\u001b[0;34m)\u001b[0m\u001b[0;34m\u001b[0m\u001b[0;34m\u001b[0m\u001b[0m\n\u001b[0m\u001b[1;32m    133\u001b[0m             \u001b[0mself\u001b[0m\u001b[0;34m.\u001b[0m\u001b[0mfilename\u001b[0m \u001b[0;34m=\u001b[0m \u001b[0mos\u001b[0m\u001b[0;34m.\u001b[0m\u001b[0mfspath\u001b[0m\u001b[0;34m(\u001b[0m\u001b[0mfp\u001b[0m\u001b[0;34m)\u001b[0m\u001b[0;34m\u001b[0m\u001b[0;34m\u001b[0m\u001b[0m\n\u001b[1;32m    134\u001b[0m             \u001b[0mself\u001b[0m\u001b[0;34m.\u001b[0m\u001b[0m_exclusive_fp\u001b[0m \u001b[0;34m=\u001b[0m \u001b[0;32mTrue\u001b[0m\u001b[0;34m\u001b[0m\u001b[0;34m\u001b[0m\u001b[0m\n",
            "\u001b[0;31mFileNotFoundError\u001b[0m: [Errno 2] No such file or directory: 'bear.png'"
          ]
        }
      ],
      "execution_count": 9
    },
    {
      "cell_type": "code",
      "source": [
        "def iterative(img):\n",
        "    \"\"\" Iterative operation. \"\"\"\n",
        "    image = copy.deepcopy(img)              # Create a copy of the image matrix\n",
        "    for x in range(image.shape[0]):\n",
        "        for y in range(image.shape[1]):\n",
        "            if x < image.shape[0]/2 and y < image.shape[1]/2:\n",
        "                image[x,y] = image[x,y] * np.array([1,0,0])    # Keep the red channel\n",
        "            elif x > image.shape[0]/2 and y < image.shape[1]/2:\n",
        "                image[x,y] = image[x,y] * np.array([0,0,1])    # Keep the blue channel\n",
        "            elif x < image.shape[0]/2 and y > image.shape[1]/2:\n",
        "                image[x,y] = image[x,y] * np.array([0,1,1])    # Keep the green and blue channels\n",
        "            else:\n",
        "                pass\n",
        "    return image\n",
        "\n",
        "def vectorized(img):\n",
        "    \"\"\" Vectorized operation. \"\"\"\n",
        "    image = copy.deepcopy(img)\n",
        "    a = int(image.shape[0]/2)\n",
        "    b = int(image.shape[1]/2)\n",
        "    image[:a,:b] = image[:a,:b] * np.array([1,0,0])       # Keep the red channel\n",
        "\n",
        "    # Please also keep the blue channel / green and blue channels respectively in image[a:, :b] and image[:a, b:]\n",
        "    # with the vectorized operation as shown above. You need to make sure your final generated image in this\n",
        "    # vectorized() function is the same as the one generated from iterative().\n",
        "\n",
        "    #### Write your code here. ####\n",
        "    image[a:,:b] =  []      # Keep the blue channel\n",
        "\n",
        "    image[:a,b:] =  []      # Keep the green and blue channels\n",
        "\n",
        "    return image"
      ],
      "metadata": {
        "trusted": true,
        "id": "b-dx3BRo_KpV"
      },
      "outputs": [],
      "execution_count": 10
    },
    {
      "cell_type": "markdown",
      "source": [
        "Now, run the following cell to compare the difference between iterative and vectorized operation."
      ],
      "metadata": {
        "id": "9jAjoUSK_KpV"
      }
    },
    {
      "cell_type": "code",
      "source": [
        "import time\n",
        "\n",
        "def compare():\n",
        "    img = plt.imread('bear.png')\n",
        "    cur_time = time.time()\n",
        "    image_iterative = iterative(img)\n",
        "    print(\"Iterative operation (sec):\", time.time() - cur_time)\n",
        "\n",
        "    cur_time = time.time()\n",
        "    image_vectorized = vectorized(img)\n",
        "    print(\"Vectorized operation (sec):\", time.time() - cur_time)\n",
        "\n",
        "    return image_iterative, image_vectorized\n",
        "\n",
        "# Run the function\n",
        "image_iterative, image_vectorized = compare()\n",
        "\n",
        "# Plotting the results in sepearate subplots.\n",
        "plt.figure(figsize=(12,4))   # Adjust the figure size.\n",
        "plt.subplot(1, 3, 1)         # Create 1x3 subplots, indexing from 1\n",
        "plt.imshow(img)              # Original image.\n",
        "\n",
        "plt.subplot(1, 3, 2)\n",
        "plt.imshow(image_iterative)  # Iterative operations on the image.\n",
        "\n",
        "plt.subplot(1, 3, 3)\n",
        "plt.imshow(image_vectorized) # Vectorized operations on the image.\n",
        "\n",
        "plt.show()                   # Show the figure.\n",
        "\n",
        "# Note: The shown figures of image_iterative and image_vectorized should be identical!"
      ],
      "metadata": {
        "trusted": true,
        "id": "xxnfBtr__KpV",
        "outputId": "f8e0a4a5-0355-40f9-adc5-027c9905593e",
        "colab": {
          "base_uri": "https://localhost:8080/",
          "height": 370
        }
      },
      "outputs": [
        {
          "output_type": "error",
          "ename": "FileNotFoundError",
          "evalue": "[Errno 2] No such file or directory: 'bear.png'",
          "traceback": [
            "\u001b[0;31m---------------------------------------------------------------------------\u001b[0m",
            "\u001b[0;31mFileNotFoundError\u001b[0m                         Traceback (most recent call last)",
            "\u001b[0;32m<ipython-input-11-ce5550c49783>\u001b[0m in \u001b[0;36m<cell line: 0>\u001b[0;34m()\u001b[0m\n\u001b[1;32m     14\u001b[0m \u001b[0;34m\u001b[0m\u001b[0m\n\u001b[1;32m     15\u001b[0m \u001b[0;31m# Run the function\u001b[0m\u001b[0;34m\u001b[0m\u001b[0;34m\u001b[0m\u001b[0m\n\u001b[0;32m---> 16\u001b[0;31m \u001b[0mimage_iterative\u001b[0m\u001b[0;34m,\u001b[0m \u001b[0mimage_vectorized\u001b[0m \u001b[0;34m=\u001b[0m \u001b[0mcompare\u001b[0m\u001b[0;34m(\u001b[0m\u001b[0;34m)\u001b[0m\u001b[0;34m\u001b[0m\u001b[0;34m\u001b[0m\u001b[0m\n\u001b[0m\u001b[1;32m     17\u001b[0m \u001b[0;34m\u001b[0m\u001b[0m\n\u001b[1;32m     18\u001b[0m \u001b[0;31m# Plotting the results in sepearate subplots.\u001b[0m\u001b[0;34m\u001b[0m\u001b[0;34m\u001b[0m\u001b[0m\n",
            "\u001b[0;32m<ipython-input-11-ce5550c49783>\u001b[0m in \u001b[0;36mcompare\u001b[0;34m()\u001b[0m\n\u001b[1;32m      2\u001b[0m \u001b[0;34m\u001b[0m\u001b[0m\n\u001b[1;32m      3\u001b[0m \u001b[0;32mdef\u001b[0m \u001b[0mcompare\u001b[0m\u001b[0;34m(\u001b[0m\u001b[0;34m)\u001b[0m\u001b[0;34m:\u001b[0m\u001b[0;34m\u001b[0m\u001b[0;34m\u001b[0m\u001b[0m\n\u001b[0;32m----> 4\u001b[0;31m     \u001b[0mimg\u001b[0m \u001b[0;34m=\u001b[0m \u001b[0mplt\u001b[0m\u001b[0;34m.\u001b[0m\u001b[0mimread\u001b[0m\u001b[0;34m(\u001b[0m\u001b[0;34m'bear.png'\u001b[0m\u001b[0;34m)\u001b[0m\u001b[0;34m\u001b[0m\u001b[0;34m\u001b[0m\u001b[0m\n\u001b[0m\u001b[1;32m      5\u001b[0m     \u001b[0mcur_time\u001b[0m \u001b[0;34m=\u001b[0m \u001b[0mtime\u001b[0m\u001b[0;34m.\u001b[0m\u001b[0mtime\u001b[0m\u001b[0;34m(\u001b[0m\u001b[0;34m)\u001b[0m\u001b[0;34m\u001b[0m\u001b[0;34m\u001b[0m\u001b[0m\n\u001b[1;32m      6\u001b[0m     \u001b[0mimage_iterative\u001b[0m \u001b[0;34m=\u001b[0m \u001b[0miterative\u001b[0m\u001b[0;34m(\u001b[0m\u001b[0mimg\u001b[0m\u001b[0;34m)\u001b[0m\u001b[0;34m\u001b[0m\u001b[0;34m\u001b[0m\u001b[0m\n",
            "\u001b[0;32m/usr/local/lib/python3.11/dist-packages/matplotlib/pyplot.py\u001b[0m in \u001b[0;36mimread\u001b[0;34m(fname, format)\u001b[0m\n\u001b[1;32m   2611\u001b[0m         \u001b[0mfname\u001b[0m\u001b[0;34m:\u001b[0m \u001b[0mstr\u001b[0m \u001b[0;34m|\u001b[0m \u001b[0mpathlib\u001b[0m\u001b[0;34m.\u001b[0m\u001b[0mPath\u001b[0m \u001b[0;34m|\u001b[0m \u001b[0mBinaryIO\u001b[0m\u001b[0;34m,\u001b[0m \u001b[0mformat\u001b[0m\u001b[0;34m:\u001b[0m \u001b[0mstr\u001b[0m \u001b[0;34m|\u001b[0m \u001b[0;32mNone\u001b[0m \u001b[0;34m=\u001b[0m \u001b[0;32mNone\u001b[0m\u001b[0;34m\u001b[0m\u001b[0;34m\u001b[0m\u001b[0m\n\u001b[1;32m   2612\u001b[0m ) -> np.ndarray:\n\u001b[0;32m-> 2613\u001b[0;31m     \u001b[0;32mreturn\u001b[0m \u001b[0mmatplotlib\u001b[0m\u001b[0;34m.\u001b[0m\u001b[0mimage\u001b[0m\u001b[0;34m.\u001b[0m\u001b[0mimread\u001b[0m\u001b[0;34m(\u001b[0m\u001b[0mfname\u001b[0m\u001b[0;34m,\u001b[0m \u001b[0mformat\u001b[0m\u001b[0;34m)\u001b[0m\u001b[0;34m\u001b[0m\u001b[0;34m\u001b[0m\u001b[0m\n\u001b[0m\u001b[1;32m   2614\u001b[0m \u001b[0;34m\u001b[0m\u001b[0m\n\u001b[1;32m   2615\u001b[0m \u001b[0;34m\u001b[0m\u001b[0m\n",
            "\u001b[0;32m/usr/local/lib/python3.11/dist-packages/matplotlib/image.py\u001b[0m in \u001b[0;36mimread\u001b[0;34m(fname, format)\u001b[0m\n\u001b[1;32m   1500\u001b[0m             \u001b[0;34m\"``np.array(PIL.Image.open(urllib.request.urlopen(url)))``.\"\u001b[0m\u001b[0;34m\u001b[0m\u001b[0;34m\u001b[0m\u001b[0m\n\u001b[1;32m   1501\u001b[0m             )\n\u001b[0;32m-> 1502\u001b[0;31m     \u001b[0;32mwith\u001b[0m \u001b[0mimg_open\u001b[0m\u001b[0;34m(\u001b[0m\u001b[0mfname\u001b[0m\u001b[0;34m)\u001b[0m \u001b[0;32mas\u001b[0m \u001b[0mimage\u001b[0m\u001b[0;34m:\u001b[0m\u001b[0;34m\u001b[0m\u001b[0;34m\u001b[0m\u001b[0m\n\u001b[0m\u001b[1;32m   1503\u001b[0m         return (_pil_png_to_float_array(image)\n\u001b[1;32m   1504\u001b[0m                 \u001b[0;32mif\u001b[0m \u001b[0misinstance\u001b[0m\u001b[0;34m(\u001b[0m\u001b[0mimage\u001b[0m\u001b[0;34m,\u001b[0m \u001b[0mPIL\u001b[0m\u001b[0;34m.\u001b[0m\u001b[0mPngImagePlugin\u001b[0m\u001b[0;34m.\u001b[0m\u001b[0mPngImageFile\u001b[0m\u001b[0;34m)\u001b[0m \u001b[0;32melse\u001b[0m\u001b[0;34m\u001b[0m\u001b[0;34m\u001b[0m\u001b[0m\n",
            "\u001b[0;32m/usr/local/lib/python3.11/dist-packages/PIL/ImageFile.py\u001b[0m in \u001b[0;36m__init__\u001b[0;34m(self, fp, filename)\u001b[0m\n\u001b[1;32m    130\u001b[0m         \u001b[0;32mif\u001b[0m \u001b[0mis_path\u001b[0m\u001b[0;34m(\u001b[0m\u001b[0mfp\u001b[0m\u001b[0;34m)\u001b[0m\u001b[0;34m:\u001b[0m\u001b[0;34m\u001b[0m\u001b[0;34m\u001b[0m\u001b[0m\n\u001b[1;32m    131\u001b[0m             \u001b[0;31m# filename\u001b[0m\u001b[0;34m\u001b[0m\u001b[0;34m\u001b[0m\u001b[0m\n\u001b[0;32m--> 132\u001b[0;31m             \u001b[0mself\u001b[0m\u001b[0;34m.\u001b[0m\u001b[0mfp\u001b[0m \u001b[0;34m=\u001b[0m \u001b[0mopen\u001b[0m\u001b[0;34m(\u001b[0m\u001b[0mfp\u001b[0m\u001b[0;34m,\u001b[0m \u001b[0;34m\"rb\"\u001b[0m\u001b[0;34m)\u001b[0m\u001b[0;34m\u001b[0m\u001b[0;34m\u001b[0m\u001b[0m\n\u001b[0m\u001b[1;32m    133\u001b[0m             \u001b[0mself\u001b[0m\u001b[0;34m.\u001b[0m\u001b[0mfilename\u001b[0m \u001b[0;34m=\u001b[0m \u001b[0mos\u001b[0m\u001b[0;34m.\u001b[0m\u001b[0mfspath\u001b[0m\u001b[0;34m(\u001b[0m\u001b[0mfp\u001b[0m\u001b[0;34m)\u001b[0m\u001b[0;34m\u001b[0m\u001b[0;34m\u001b[0m\u001b[0m\n\u001b[1;32m    134\u001b[0m             \u001b[0mself\u001b[0m\u001b[0;34m.\u001b[0m\u001b[0m_exclusive_fp\u001b[0m \u001b[0;34m=\u001b[0m \u001b[0;32mTrue\u001b[0m\u001b[0;34m\u001b[0m\u001b[0;34m\u001b[0m\u001b[0m\n",
            "\u001b[0;31mFileNotFoundError\u001b[0m: [Errno 2] No such file or directory: 'bear.png'"
          ]
        }
      ],
      "execution_count": 11
    },
    {
      "cell_type": "markdown",
      "source": [
        "## Problem 2: More Image Manipulation (45 points)\n",
        "\n",
        "In this problem you will reuse the image `bear.png`. Being a color image, this image has three channels, corresponding to the primary colors of red, green and blue.\n",
        "\n",
        "(1) Read the image.\n",
        "\n",
        "(2) Write your implementation to extract each of these channels separately to create single channel images. This means that from the $H\\times W\\times 3$ shaped image, you'll get three matrices of the shape $H\\times W$ (Note that it's 2-dimensional).\n",
        "\n",
        "(3) Now, write a function to merge all these single channel images back into a 3-dimensional colored image. Merge the 2D images using the original channels order $(R,G,B)$ and another order $(G,B,R)$.\n",
        "\n",
        "(4) Next, write another function to mirror the original image from left to right. For this function, please only use **Array Indexing** to implement this function and **do not** directly use the functions (e.g. `np.flip()`) that directly flips the matrix.\n",
        "\n",
        "(5) Next, write another function to rotate the original image 90 degrees counterclockwise. For this function, please only use **Array Indexing** to implement this function and **do not** directly use the functions (e.g. `np.rot90()`) that directly rotates the matrix. Try to apply the rotation function once (i.e. 90-degree rotation) and twice (i.e. 180-degree rotation)\n",
        "\n",
        "(6) Finally, consider **4 color images** you obtained: 2 from merging (RGB and GBR), 1 from mirroring (left to right) and 1 from rotation (180-degree). Using these 4 images, create one single image by tiling them together **without using loops**. The image will have $2\\times 2$ tiles making the shape of the final image $2H \\times 2W \\times 3$. The order in which the images are tiled does not matter. Show the tiled image."
      ],
      "metadata": {
        "id": "H8tdebvy_KpV"
      }
    },
    {
      "cell_type": "code",
      "source": [
        "import numpy as np\n",
        "import matplotlib.pyplot as plt\n",
        "import copy"
      ],
      "metadata": {
        "trusted": true,
        "id": "wB1pfc2K_KpV"
      },
      "outputs": [],
      "execution_count": 12
    },
    {
      "cell_type": "code",
      "source": [
        "# (1) Read the image.\n",
        "#### Write your code here. ####\n",
        "img =\n",
        "\n",
        "\n",
        "plt.imshow(img) # Show the image after reading.\n",
        "plt.show()\n",
        "\n",
        "\n",
        "\n",
        "# (2) Extract single channel image.\n",
        "def get_channel(img, channel):\n",
        "    \"\"\"\n",
        "    Function to extract 2D image corresponding to a channel index from a color image.\n",
        "    This function should return a H*W array which is the corresponding channel of the input image.\n",
        "\n",
        "    Parameters:\n",
        "    img: 3-dimensional array e.g. RGB image with shape (H,W,3)\n",
        "    channel: integer (used to index the channel)\n",
        "    \"\"\"\n",
        "\n",
        "\n",
        "# Test your implemented get_channel()\n",
        "assert len(get_channel(img, 0).shape) == 2  # Index 0"
      ],
      "metadata": {
        "trusted": true,
        "id": "IC214cbN_KpV",
        "outputId": "53e7f21d-b67f-4ee1-fe59-e718fec6503d",
        "colab": {
          "base_uri": "https://localhost:8080/",
          "height": 110
        }
      },
      "outputs": [
        {
          "output_type": "error",
          "ename": "SyntaxError",
          "evalue": "invalid syntax (<ipython-input-13-d6e128095b6e>, line 3)",
          "traceback": [
            "\u001b[0;36m  File \u001b[0;32m\"<ipython-input-13-d6e128095b6e>\"\u001b[0;36m, line \u001b[0;32m3\u001b[0m\n\u001b[0;31m    img =\u001b[0m\n\u001b[0m          ^\u001b[0m\n\u001b[0;31mSyntaxError\u001b[0m\u001b[0;31m:\u001b[0m invalid syntax\n"
          ]
        }
      ],
      "execution_count": 13
    },
    {
      "cell_type": "code",
      "source": [
        "# (3) Merge channels.\n",
        "def merge_channels(img0, img1, img2):\n",
        "    \"\"\"\n",
        "    Function to merge three single channel images to form a color image.\n",
        "    This function should return a H*W*3 array which merges all three single channel images\n",
        "    (i.e. img0, img1, img2) in the input.\n",
        "\n",
        "    Parameters:\n",
        "    img0: 2-dimensional array e.g. single channel image with shape (H,W)\n",
        "    img1: 2-dimensional array e.g. single channel image with shape (H,W)\n",
        "    img2: 2-dimensional array e.g. single channel image with shape (H,W)\n",
        "    \"\"\"\n",
        "    # Hint: There are multiple ways to implement it.\n",
        "    #       1. For example, create a H*W*C array with all values as zero and\n",
        "    #          fill each channel with given single channel image.\n",
        "    #          You may refer to the \"Modify a subarray\" section in the brief NumPy tutorial above.\n",
        "    #       2. You may find np.stack() / np.concatenate() / np.reshape() useful in this problem.\n",
        "\n",
        "    #### Write your code here. ####\n",
        "\n",
        "\n",
        "img0 = get_channel(img, 0)  # Get single channel images.\n",
        "img1 = get_channel(img, 1)\n",
        "img2 = get_channel(img, 2)\n",
        "\n",
        "#### Write your code here. ####\n",
        "RGB_img =                           # Merge the channels in R,G,B order (the same as original)\n",
        "GBR_img =                           # Merge the channels in G,B,R order\n",
        "plt.imshow(RGB_img)\n",
        "plt.show()\n",
        "plt.imshow(GBR_img)\n",
        "plt.show()"
      ],
      "metadata": {
        "trusted": true,
        "id": "AhSWzAf__KpV",
        "outputId": "24f24d76-5336-41f3-c79b-4476a15e7fe2",
        "colab": {
          "base_uri": "https://localhost:8080/",
          "height": 110
        }
      },
      "outputs": [
        {
          "output_type": "error",
          "ename": "SyntaxError",
          "evalue": "invalid syntax (<ipython-input-14-d84a0c5c892e>, line 27)",
          "traceback": [
            "\u001b[0;36m  File \u001b[0;32m\"<ipython-input-14-d84a0c5c892e>\"\u001b[0;36m, line \u001b[0;32m27\u001b[0m\n\u001b[0;31m    RGB_img =                           # Merge the channels in R,G,B order (the same as original)\u001b[0m\n\u001b[0m                                        ^\u001b[0m\n\u001b[0;31mSyntaxError\u001b[0m\u001b[0;31m:\u001b[0m invalid syntax\n"
          ]
        }
      ],
      "execution_count": 14
    },
    {
      "cell_type": "code",
      "source": [
        "# (4) Mirror the image from left to right.\n",
        "def mirror_img(img):\n",
        "    \"\"\"\n",
        "    Function to mirror image from left to right.\n",
        "    This function should return a H*W*3 array which is the mirrored version of original image.\n",
        "\n",
        "    Parameters:\n",
        "    img: 3-dimensional array e.g. RGB image of shape (H,W,3)\n",
        "    \"\"\"\n",
        "    #### Write your code here. ####\n",
        "\n",
        "\n",
        "plt.imshow(img)\n",
        "plt.show()\n",
        "mirrored_img = mirror_img(img)\n",
        "plt.imshow(mirrored_img)\n",
        "plt.show()"
      ],
      "metadata": {
        "trusted": true,
        "id": "QPdXUyTM_KpW",
        "outputId": "a90f42ce-d8cb-4e7f-df08-f274008286c9",
        "colab": {
          "base_uri": "https://localhost:8080/",
          "height": 219
        }
      },
      "outputs": [
        {
          "output_type": "error",
          "ename": "NameError",
          "evalue": "name 'img' is not defined",
          "traceback": [
            "\u001b[0;31m---------------------------------------------------------------------------\u001b[0m",
            "\u001b[0;31mNameError\u001b[0m                                 Traceback (most recent call last)",
            "\u001b[0;32m<ipython-input-15-618d8142474f>\u001b[0m in \u001b[0;36m<cell line: 0>\u001b[0;34m()\u001b[0m\n\u001b[1;32m     11\u001b[0m \u001b[0;34m\u001b[0m\u001b[0m\n\u001b[1;32m     12\u001b[0m \u001b[0;34m\u001b[0m\u001b[0m\n\u001b[0;32m---> 13\u001b[0;31m \u001b[0mplt\u001b[0m\u001b[0;34m.\u001b[0m\u001b[0mimshow\u001b[0m\u001b[0;34m(\u001b[0m\u001b[0mimg\u001b[0m\u001b[0;34m)\u001b[0m\u001b[0;34m\u001b[0m\u001b[0;34m\u001b[0m\u001b[0m\n\u001b[0m\u001b[1;32m     14\u001b[0m \u001b[0mplt\u001b[0m\u001b[0;34m.\u001b[0m\u001b[0mshow\u001b[0m\u001b[0;34m(\u001b[0m\u001b[0;34m)\u001b[0m\u001b[0;34m\u001b[0m\u001b[0;34m\u001b[0m\u001b[0m\n\u001b[1;32m     15\u001b[0m \u001b[0mmirrored_img\u001b[0m \u001b[0;34m=\u001b[0m \u001b[0mmirror_img\u001b[0m\u001b[0;34m(\u001b[0m\u001b[0mimg\u001b[0m\u001b[0;34m)\u001b[0m\u001b[0;34m\u001b[0m\u001b[0;34m\u001b[0m\u001b[0m\n",
            "\u001b[0;31mNameError\u001b[0m: name 'img' is not defined"
          ]
        }
      ],
      "execution_count": 15
    },
    {
      "cell_type": "code",
      "source": [
        "# (5) Rotate image.\n",
        "def rotate_img(img):\n",
        "    \"\"\"\n",
        "    Function to rotate image 90 degrees counter-clockwise.\n",
        "    This function should return a W*H*3 array which is the rotated version of original image.\n",
        "\n",
        "    Parameters:\n",
        "    img: 3-dimensional array e.g. RGB image of shape (H,W,3)\n",
        "    \"\"\"\n",
        "    #### Write your code here. ####\n",
        "\n",
        "\n",
        "\n",
        "\n",
        "\n",
        "\n",
        "\n",
        "\n",
        "plt.imshow(img)\n",
        "plt.show()\n",
        "rot90_img = rotate_img(img)\n",
        "plt.imshow(rot90_img)\n",
        "plt.show()\n",
        "rot180_img = rotate_img(rotate_img(img))\n",
        "plt.imshow(rot180_img)\n",
        "plt.show()"
      ],
      "metadata": {
        "trusted": true,
        "id": "dy6Zxoko_KpW",
        "outputId": "e958b47e-eb57-4366-a409-c0f6a449e7aa",
        "colab": {
          "base_uri": "https://localhost:8080/",
          "height": 219
        }
      },
      "outputs": [
        {
          "output_type": "error",
          "ename": "NameError",
          "evalue": "name 'img' is not defined",
          "traceback": [
            "\u001b[0;31m---------------------------------------------------------------------------\u001b[0m",
            "\u001b[0;31mNameError\u001b[0m                                 Traceback (most recent call last)",
            "\u001b[0;32m<ipython-input-16-3f6baa4ab153>\u001b[0m in \u001b[0;36m<cell line: 0>\u001b[0;34m()\u001b[0m\n\u001b[1;32m     17\u001b[0m \u001b[0;34m\u001b[0m\u001b[0m\n\u001b[1;32m     18\u001b[0m \u001b[0;34m\u001b[0m\u001b[0m\n\u001b[0;32m---> 19\u001b[0;31m \u001b[0mplt\u001b[0m\u001b[0;34m.\u001b[0m\u001b[0mimshow\u001b[0m\u001b[0;34m(\u001b[0m\u001b[0mimg\u001b[0m\u001b[0;34m)\u001b[0m\u001b[0;34m\u001b[0m\u001b[0;34m\u001b[0m\u001b[0m\n\u001b[0m\u001b[1;32m     20\u001b[0m \u001b[0mplt\u001b[0m\u001b[0;34m.\u001b[0m\u001b[0mshow\u001b[0m\u001b[0;34m(\u001b[0m\u001b[0;34m)\u001b[0m\u001b[0;34m\u001b[0m\u001b[0;34m\u001b[0m\u001b[0m\n\u001b[1;32m     21\u001b[0m \u001b[0mrot90_img\u001b[0m \u001b[0;34m=\u001b[0m \u001b[0mrotate_img\u001b[0m\u001b[0;34m(\u001b[0m\u001b[0mimg\u001b[0m\u001b[0;34m)\u001b[0m\u001b[0;34m\u001b[0m\u001b[0;34m\u001b[0m\u001b[0m\n",
            "\u001b[0;31mNameError\u001b[0m: name 'img' is not defined"
          ]
        }
      ],
      "execution_count": 16
    },
    {
      "cell_type": "code",
      "source": [
        "# (6) Write your code here to tile four images and make a single image.\n",
        "# You can use the RGB_img, GBR_img, mirrored_img, rot180_img to represent the four tiles.\n",
        "# After tiling, please display the tiled image.\n",
        "\n",
        "#### Write your code here. ####\n",
        "\n"
      ],
      "metadata": {
        "id": "j47AfNGJ_KpW"
      },
      "outputs": [],
      "execution_count": 17
    }
  ]
}